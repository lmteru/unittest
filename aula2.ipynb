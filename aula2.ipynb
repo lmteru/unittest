{
 "cells": [
  {
   "cell_type": "code",
   "execution_count": 38,
   "metadata": {},
   "outputs": [],
   "source": [
    "import ipytest\n",
    "import moto\n",
    "from moto import mock_s3\n",
    "from unittest.mock import MagicMock, patch, Mock\n",
    "import boto3\n",
    "import pytest\n",
    "\n",
    "ipytest.autoconfig()"
   ]
  },
  {
   "cell_type": "code",
   "execution_count": 30,
   "metadata": {},
   "outputs": [],
   "source": [
    "class MyModel:\n",
    "    def __init__(self, name, value):\n",
    "        self.name = name\n",
    "        self.value = value\n",
    "\n",
    "    def save(self):\n",
    "        s3 = boto3.client(\"s3\", region_name=\"us-east-1\")\n",
    "        s3.put_object(Bucket=\"mybucket\", Key=self.name, Body=self.value)\n",
    "\n",
    "    def download(self, ,file_name):\n",
    "        s3 = boto3.client(\"s3\", region_name=\"us-east-1\")\n",
    "        file = s3.download_file(\"mybucket\", file_name, file_name)\n",
    "        return file"
   ]
  },
  {
   "cell_type": "code",
   "execution_count": 33,
   "metadata": {},
   "outputs": [
    {
     "name": "stdout",
     "output_type": "stream",
     "text": [
      "\u001b[1m======================================= test session starts ========================================\u001b[0m\n",
      "platform linux -- Python 3.8.10, pytest-7.3.1, pluggy-1.0.0 -- /bin/python3\n",
      "cachedir: .pytest_cache\n",
      "rootdir: /mnt/c/Users/rafae/AppData/Local/Programs/Microsoft VS Code\n",
      "\u001b[1mcollecting ... \u001b[0mcollected 1 item\n",
      "\n",
      "t_b99653296bb241cabaee16deb0b4272b.py::test_my_model_save \u001b[32mPASSED\u001b[0m\u001b[32m                             [100%]\u001b[0m\n",
      "\n",
      "\u001b[32m======================================== \u001b[32m\u001b[1m1 passed\u001b[0m\u001b[32m in 0.11s\u001b[0m\u001b[32m =========================================\u001b[0m\n"
     ]
    }
   ],
   "source": [
    "%%ipytest -vv\n",
    "\n",
    "@mock_s3\n",
    "def test_my_model_save():\n",
    "    conn = boto3.resource(\"s3\", region_name=\"us-east-1\")\n",
    "    # We need to create the bucket since this is all in Moto's 'virtual' AWS account\n",
    "    conn.create_bucket(Bucket=\"mybucket\")\n",
    "\n",
    "    model_instance = MyModel(\"steve\", \"is awesome\")\n",
    "    model_instance.save()\n",
    "\n",
    "    body = conn.Object(\"mybucket\", \"steve\").get()[\n",
    "        \"Body\"].read().decode(\"utf-8\")\n",
    "\n",
    "    assert body == \"is awesome\""
   ]
  },
  {
   "cell_type": "code",
   "execution_count": 34,
   "metadata": {},
   "outputs": [
    {
     "name": "stdout",
     "output_type": "stream",
     "text": [
      "\u001b[1m======================================= test session starts ========================================\u001b[0m\n",
      "platform linux -- Python 3.8.10, pytest-7.3.1, pluggy-1.0.0 -- /bin/python3\n",
      "cachedir: .pytest_cache\n",
      "rootdir: /mnt/c/Users/rafae/AppData/Local/Programs/Microsoft VS Code\n",
      "\u001b[1mcollecting ... \u001b[0mcollected 1 item\n",
      "\n",
      "t_b99653296bb241cabaee16deb0b4272b.py::test_my_model_save \u001b[32mPASSED\u001b[0m\u001b[32m                             [100%]\u001b[0m\n",
      "\n",
      "\u001b[32m======================================== \u001b[32m\u001b[1m1 passed\u001b[0m\u001b[32m in 0.24s\u001b[0m\u001b[32m =========================================\u001b[0m\n"
     ]
    }
   ],
   "source": [
    "%%ipytest -vv\n",
    "\n",
    "def test_my_model_save():\n",
    "    with mock_s3():\n",
    "        conn = boto3.resource(\"s3\", region_name=\"us-east-1\")\n",
    "        conn.create_bucket(Bucket=\"mybucket\")\n",
    "\n",
    "        model_instance = MyModel(\"steve\", \"is awesome\")\n",
    "        model_instance.save()\n",
    "\n",
    "        body = conn.Object(\"mybucket\", \"steve\").get()[\n",
    "            \"Body\"].read().decode(\"utf-8\")\n",
    "\n",
    "        assert body == \"is awesome\""
   ]
  },
  {
   "cell_type": "code",
   "execution_count": 35,
   "metadata": {},
   "outputs": [
    {
     "name": "stdout",
     "output_type": "stream",
     "text": [
      "\u001b[1m======================================= test session starts ========================================\u001b[0m\n",
      "platform linux -- Python 3.8.10, pytest-7.3.1, pluggy-1.0.0 -- /bin/python3\n",
      "cachedir: .pytest_cache\n",
      "rootdir: /mnt/c/Users/rafae/AppData/Local/Programs/Microsoft VS Code\n",
      "\u001b[1mcollecting ... \u001b[0mcollected 1 item\n",
      "\n",
      "t_b99653296bb241cabaee16deb0b4272b.py::test_my_model_save \u001b[32mPASSED\u001b[0m\u001b[32m                             [100%]\u001b[0m\n",
      "\n",
      "\u001b[32m======================================== \u001b[32m\u001b[1m1 passed\u001b[0m\u001b[32m in 0.13s\u001b[0m\u001b[32m =========================================\u001b[0m\n"
     ]
    }
   ],
   "source": [
    "%%ipytest -vv\n",
    "\n",
    "\n",
    "def test_my_model_save():\n",
    "    mock = mock_s3()\n",
    "    mock.start()\n",
    "\n",
    "    conn = boto3.resource(\"s3\", region_name=\"us-east-1\")\n",
    "    conn.create_bucket(Bucket=\"mybucket\")\n",
    "\n",
    "    model_instance = MyModel(\"steve\", \"is awesome\")\n",
    "    model_instance.save()\n",
    "\n",
    "    body = conn.Object(\"mybucket\", \"steve\").get()[\n",
    "        \"Body\"].read().decode(\"utf-8\")\n",
    "\n",
    "    assert body == \"is awesome\"\n",
    "\n",
    "    mock.stop()"
   ]
  },
  {
   "cell_type": "code",
   "execution_count": null,
   "metadata": {},
   "outputs": [],
   "source": [
    "class MyMockingClass():\n",
    "\n",
    "\n",
    "def consume_andromeda():\n",
    "    mmc = consome"
   ]
  },
  {
   "cell_type": "code",
   "execution_count": 40,
   "metadata": {},
   "outputs": [
    {
     "name": "stdout",
     "output_type": "stream",
     "text": [
      "\u001b[32m.\u001b[0m\u001b[32m.\u001b[0m\u001b[32m.\u001b[0m\u001b[32m.\u001b[0m\u001b[32m.\u001b[0m\u001b[32m.\u001b[0m\u001b[32m.\u001b[0m\u001b[32m.\u001b[0m\u001b[32m.\u001b[0m\u001b[32m.\u001b[0m\u001b[32m.\u001b[0m\u001b[32m                                                                                  [100%]\u001b[0m\n",
      "\u001b[32m\u001b[32m\u001b[1m11 passed\u001b[0m\u001b[32m in 0.06s\u001b[0m\u001b[0m\n"
     ]
    }
   ],
   "source": [
    "%%ipytest\n",
    "\n",
    "\n",
    "import math\n",
    "def char_remover(input:str) -> str:\n",
    "    remove = [',', '.']\n",
    "    for char in remove:\n",
    "        input = ' '.join(input).replace(char, '').split()\n",
    "\n",
    "    return ''.join(input)\n",
    "\n",
    "\n",
    "def is_polindrome(input: str) -> bool:\n",
    "    input = char_remover(input)\n",
    "\n",
    "    for i in range(math.floor(len(input)/2)):\n",
    "        print(i)\n",
    "        print(input[i], input[-1*(i+1)])\n",
    "        if not input[i] == input[-1*(i+1)]:\n",
    "            return False\n",
    "    return True\n",
    "\n",
    "@pytest.mark.parametrize('input, expected', [\n",
    "    ('abba', True),\n",
    "    ('a,bba', True),\n",
    "    ('abcba', True),\n",
    "    ('banana', False),\n",
    "    ('ban,ana', False)\n",
    "])\n",
    "def test_invert_array(input, expected):\n",
    "    assert is_polindrome(input) == expected\n",
    "\n",
    "\n",
    "@pytest.mark.parametrize('input, expected', [\n",
    "    ('a,b', 'ab'),\n",
    "    ('a,.b', 'ab')\n",
    "])\n",
    "def test_char_remover(input, expected):\n",
    "    assert char_remover(input) == expected\n",
    "\n",
    "\n",
    "@pytest.mark.parametrize('input, mock_output, expected', [\n",
    "    ('abba', 'abba', True),\n",
    "    ('ban,ana', 'banana', False)\n",
    "])\n",
    "def test_invert_array_mock(input, mock_output, expected):\n",
    "    with patch('__main__.char_remover', return_value=mock_output) as mock_method:\n",
    "        assert is_polindrome(input) == expected\n",
    "\n",
    "\n",
    "@pytest.mark.parametrize('input, mock_output, expected', [\n",
    "    ('a', TypeError, TypeError),\n",
    "    (1, TypeError, Exception)\n",
    "])\n",
    "def test_div_err(input, mock_output, expected):\n",
    "    with pytest.raises(expected):\n",
    "        with patch('__main__.char_remover', side_effect=mock_output) as mock_method:\n",
    "            assert is_polindrome(input) == expected  "
   ]
  }
 ],
 "metadata": {
  "kernelspec": {
   "display_name": "Python 3",
   "language": "python",
   "name": "python3"
  },
  "language_info": {
   "codemirror_mode": {
    "name": "ipython",
    "version": 3
   },
   "file_extension": ".py",
   "mimetype": "text/x-python",
   "name": "python",
   "nbconvert_exporter": "python",
   "pygments_lexer": "ipython3",
   "version": "3.8.10"
  },
  "orig_nbformat": 4
 },
 "nbformat": 4,
 "nbformat_minor": 2
}
